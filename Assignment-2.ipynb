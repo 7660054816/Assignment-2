{
 "cells": [
  {
   "cell_type": "code",
   "execution_count": 1,
   "id": "255897a9",
   "metadata": {},
   "outputs": [],
   "source": [
    "# 1. write a program to accept two numbers from the user and calculate multiplication division"
   ]
  },
  {
   "cell_type": "code",
   "execution_count": 2,
   "id": "9b86c269",
   "metadata": {},
   "outputs": [
    {
     "name": "stdout",
     "output_type": "stream",
     "text": [
      "number 1 :- 5\n",
      "number 2 :- 8\n",
      "multiplication : 40\n",
      "division : 0.625\n"
     ]
    }
   ],
   "source": [
    "x=int(input(\"number 1 :- \"))\n",
    "y=int(input(\"number 2 :- \"))\n",
    "def multi(x,y):\n",
    "    print(\"multiplication : {}\".format(x*y))\n",
    "    print(\"division : {}\".format(x/y))\n",
    "multi(x,y)"
   ]
  },
  {
   "cell_type": "code",
   "execution_count": 3,
   "id": "6e0ad403",
   "metadata": {},
   "outputs": [],
   "source": [
    "# 2. write a python program to print the characters from a string that are present at an even index"
   ]
  },
  {
   "cell_type": "code",
   "execution_count": 4,
   "id": "e3e917b9",
   "metadata": {},
   "outputs": [
    {
     "name": "stdout",
     "output_type": "stream",
     "text": [
      "ameem\n",
      " aem\n"
     ]
    }
   ],
   "source": [
    "name=input()\n",
    "new=\" \"\n",
    "for letters in range(0,len(name)):\n",
    "    if letters%2==0:\n",
    "        new+=name[letters]\n",
    "print(new)"
   ]
  },
  {
   "cell_type": "code",
   "execution_count": 5,
   "id": "1901b249",
   "metadata": {},
   "outputs": [],
   "source": [
    "# 3. write a python program to print the characters from a string that are present at an odd index"
   ]
  },
  {
   "cell_type": "code",
   "execution_count": 9,
   "id": "ea4a70aa",
   "metadata": {},
   "outputs": [
    {
     "name": "stdout",
     "output_type": "stream",
     "text": [
      "enter the name:ameem\n",
      "me\n"
     ]
    }
   ],
   "source": [
    "x=(input(\"enter the name:\"))\n",
    "y=\"\"\n",
    "for i in range (len(x)):\n",
    "    if i%2!=0:\n",
    "        y=y+x[i]\n",
    "print(y)"
   ]
  },
  {
   "cell_type": "code",
   "execution_count": 10,
   "id": "15710cee",
   "metadata": {},
   "outputs": [],
   "source": [
    "# 4. write a python program which will print the sum of the two numbers if the two numbers are even or it will print the difference of two numbers"
   ]
  },
  {
   "cell_type": "code",
   "execution_count": 11,
   "id": "90d1ecf7",
   "metadata": {},
   "outputs": [
    {
     "name": "stdout",
     "output_type": "stream",
     "text": [
      "number 1 :- 9\n",
      "number 2 :- 5\n",
      "difference of 9 and 5 is 4\n"
     ]
    }
   ],
   "source": [
    "num1=int(input(\"number 1 :- \"))\n",
    "num2=int(input(\"number 2 :- \"))\n",
    "if num1 and num2%2==0:\n",
    "    print(\"sum of {} and {} is {}\".format(num1,num2,num1+num2))\n",
    "else:\n",
    "    print(\"difference of {} and {} is {}\".format(num1,num2,num1-num2))"
   ]
  },
  {
   "cell_type": "code",
   "execution_count": 12,
   "id": "a09ccfc9",
   "metadata": {},
   "outputs": [],
   "source": [
    "# 5. write a python program to convert all even indexed alphabets to upper and odd indexed char to lower"
   ]
  },
  {
   "cell_type": "code",
   "execution_count": 1,
   "id": "b5960c13",
   "metadata": {},
   "outputs": [
    {
     "name": "stdout",
     "output_type": "stream",
     "text": [
      "type here : Ameemmmmmm\n",
      "AmEeMmMmMm\n"
     ]
    }
   ],
   "source": [
    "name=input(\"type here : \")\n",
    "new=\"\"\n",
    "for i in range (0,len(name)):\n",
    "    if i%2==0:\n",
    "        new+=name[i].upper()\n",
    "    else:\n",
    "        new+=name[i].lower()\n",
    "\n",
    "print(new)"
   ]
  },
  {
   "cell_type": "code",
   "execution_count": 2,
   "id": "a6619f45",
   "metadata": {},
   "outputs": [],
   "source": [
    "# 6. write a python program which will print true if the input number is divisible by 5 or else false"
   ]
  },
  {
   "cell_type": "code",
   "execution_count": 6,
   "id": "cbea3c68",
   "metadata": {},
   "outputs": [
    {
     "name": "stdout",
     "output_type": "stream",
     "text": [
      "enter any number : 55\n",
      "True\n"
     ]
    }
   ],
   "source": [
    "num=int(input(\"enter any number : \"))\n",
    "if num%5==0:\n",
    "    print(True)\n",
    "else:\n",
    "    print(false)"
   ]
  },
  {
   "cell_type": "code",
   "execution_count": 7,
   "id": "098217e5",
   "metadata": {},
   "outputs": [],
   "source": [
    "# 7. given two integer numbers return their product only if the product is greater than 1000,else return their sum"
   ]
  },
  {
   "cell_type": "code",
   "execution_count": 2,
   "id": "e67bb00a",
   "metadata": {},
   "outputs": [
    {
     "name": "stdout",
     "output_type": "stream",
     "text": [
      "number 1 :- 7\n",
      "number 2 :- 7\n"
     ]
    },
    {
     "data": {
      "text/plain": [
       "'the sum of 7 and 7 is  14'"
      ]
     },
     "execution_count": 2,
     "metadata": {},
     "output_type": "execute_result"
    }
   ],
   "source": [
    "num1=int(input(\"number 1 :- \"))\n",
    "num2=int(input(\"number 2 :- \"))\n",
    "\n",
    "def pro(num1,num2):\n",
    "    if num1*num2 > 1000:\n",
    "        return \"the product of {} and {} is  {}\".format(num1,num2,num1*num2)\n",
    "    else:\n",
    "        return \"the sum of {} and {} is  {}\".format(num1,num2,num1+num2)\n",
    "    \n",
    "pro(num1,num2)"
   ]
  },
  {
   "cell_type": "code",
   "execution_count": 4,
   "id": "c256d7f8",
   "metadata": {},
   "outputs": [],
   "source": [
    "# 8. give two strings x,y writes a program to return a new string made of x and y's first, middle, and last characters"
   ]
  },
  {
   "cell_type": "code",
   "execution_count": 5,
   "id": "06fe8f91",
   "metadata": {},
   "outputs": [
    {
     "name": "stdout",
     "output_type": "stream",
     "text": [
      "pytho\n",
      "javas\n",
      "\n",
      "\n",
      "pjtvos\n"
     ]
    }
   ],
   "source": [
    "x=input()\n",
    "y=input()\n",
    "def slicing(x,y):\n",
    "    ma=int(len(x)/2)\n",
    "    mb=int(len(y)/2)\n",
    "    print(\"\\n\")\n",
    "    print(x[0]+y[0]+x[ma]+y[mb]+x[-1]+y[-1])\n",
    "slicing(x,y)"
   ]
  },
  {
   "cell_type": "code",
   "execution_count": 6,
   "id": "f54711a8",
   "metadata": {},
   "outputs": [],
   "source": [
    "# 9. write a python program to take three names as input from a user in the single input () function call"
   ]
  },
  {
   "cell_type": "code",
   "execution_count": 2,
   "id": "c09dd050",
   "metadata": {},
   "outputs": [
    {
     "name": "stdout",
     "output_type": "stream",
     "text": [
      "please enter your names here : person1 person2 person3\n",
      " person1\n",
      " person2\n",
      " person3\n"
     ]
    }
   ],
   "source": [
    "name=input(\"please enter your names here : \")\n",
    "div=name.split()\n",
    "for names in div:\n",
    "    print(\" {}\".format(names))"
   ]
  },
  {
   "cell_type": "code",
   "execution_count": 3,
   "id": "9dd4538a",
   "metadata": {},
   "outputs": [],
   "source": [
    "# 10. write a python program to get a string where all occurrences of its first char have been changed to '@',except the first char itself"
   ]
  },
  {
   "cell_type": "code",
   "execution_count": 1,
   "id": "1c68d314",
   "metadata": {},
   "outputs": [
    {
     "name": "stdout",
     "output_type": "stream",
     "text": [
      "please enter your names here : abcabcabc\n",
      "abc@bc@bc\n"
     ]
    }
   ],
   "source": [
    "name=input(\"please enter your names here : \")\n",
    "a=name[0]\n",
    "b=name[1:]\n",
    "c=b.replace(a,\"@\")\n",
    "print(a+c)"
   ]
  },
  {
   "cell_type": "code",
   "execution_count": 2,
   "id": "8bd32024",
   "metadata": {},
   "outputs": [],
   "source": [
    "# 11. Write a Python program to add 'ing' at the end of a given string (string length should be equal to or more than 3). If the given string already ends with 'ing' then add 'ly' instead. If the string length of the given string is less than 3, leave it unchanged\n",
    "\n"
   ]
  },
  {
   "cell_type": "code",
   "execution_count": 3,
   "id": "cd55fa1a",
   "metadata": {},
   "outputs": [
    {
     "name": "stdout",
     "output_type": "stream",
     "text": [
      "Please enter the string here : road\n",
      "roading\n"
     ]
    }
   ],
   "source": [
    "name=input(\"Please enter the string here : \")\n",
    "if len(name)<3:\n",
    "    print(name)\n",
    "elif len(name)>=3:\n",
    "    if name[-3:]==\"ing\":\n",
    "        print(name.replace(\"ing\",\"ly\"))\n",
    "    else:\n",
    "        print(name+\"ing\")\n"
   ]
  },
  {
   "cell_type": "code",
   "execution_count": 4,
   "id": "a957c5ed",
   "metadata": {},
   "outputs": [],
   "source": [
    "# 12.  Write a python program that accepts two inputs num1 and num2 print True if one of them is 10 or if their sum is 10 otherwise print False\n",
    "\n",
    "\n"
   ]
  },
  {
   "cell_type": "code",
   "execution_count": 5,
   "id": "b9210e2f",
   "metadata": {},
   "outputs": [
    {
     "name": "stdout",
     "output_type": "stream",
     "text": [
      "num1 : 5\n",
      "num2 : 5\n",
      "True\n"
     ]
    }
   ],
   "source": [
    "num1=int(input(\"num1 : \"))\n",
    "num2=int(input(\"num2 : \"))\n",
    "if num1==10 or num2==10 or num1+num2==10:\n",
    "    print(True)\n",
    "else:\n",
    "    print(False)\n"
   ]
  },
  {
   "cell_type": "code",
   "execution_count": 6,
   "id": "0f088e04",
   "metadata": {},
   "outputs": [],
   "source": [
    "# 13.  Write a python program that accepts three inputs x, y and z print True if x*y>z otherwise False"
   ]
  },
  {
   "cell_type": "code",
   "execution_count": 9,
   "id": "df12ba8a",
   "metadata": {},
   "outputs": [
    {
     "name": "stdout",
     "output_type": "stream",
     "text": [
      "8\n",
      "8\n",
      "64\n",
      "False\n"
     ]
    }
   ],
   "source": [
    "x=int(input())\n",
    "y=int(input())\n",
    "z=int(input())\n",
    "if x*y>z:\n",
    "    print(True)\n",
    "else:\n",
    "    print(False)"
   ]
  },
  {
   "cell_type": "code",
   "execution_count": 10,
   "id": "f3932069",
   "metadata": {},
   "outputs": [],
   "source": [
    "# 14. Write a python program that accepts two strings inputs return True depending on whether the total number of characters in the first string is equal to the total number of characters in the second string\n",
    "\n",
    "\n"
   ]
  },
  {
   "cell_type": "code",
   "execution_count": 11,
   "id": "ea2c181d",
   "metadata": {},
   "outputs": [
    {
     "name": "stdout",
     "output_type": "stream",
     "text": [
      "ameem\n",
      "teja\n",
      "False\n"
     ]
    }
   ],
   "source": [
    "string1=input()\n",
    "string2=input()\n",
    "if len(string1)==len(string2):\n",
    "    print(True)\n",
    "else:\n",
    "    print(False)\n"
   ]
  },
  {
   "cell_type": "code",
   "execution_count": 12,
   "id": "48808105",
   "metadata": {},
   "outputs": [],
   "source": [
    "# 15. Write a python program that takes a string input, we'll say that the front is the first three characters of the string. If the string length is less than three characters, the front is whatever is there. Return a new string, which is three copies of the front\n",
    "\n"
   ]
  },
  {
   "cell_type": "code",
   "execution_count": 13,
   "id": "1568e0bb",
   "metadata": {},
   "outputs": [
    {
     "name": "stdout",
     "output_type": "stream",
     "text": [
      "ameem\n",
      "ame ame ame\n"
     ]
    }
   ],
   "source": [
    "string=input()\n",
    "if len(string)<3:\n",
    "    print(string)\n",
    "else:\n",
    "    front=string[0:3]\n",
    "    print(front,front,front)"
   ]
  },
  {
   "cell_type": "code",
   "execution_count": 14,
   "id": "6c9c2103",
   "metadata": {},
   "outputs": [],
   "source": [
    "# 16. Write a python program that takes in a word and determines whether or not it is plural. A plural word is one that ends in \"s\".\n",
    "\n"
   ]
  },
  {
   "cell_type": "code",
   "execution_count": 15,
   "id": "5e8a790d",
   "metadata": {},
   "outputs": [
    {
     "name": "stdout",
     "output_type": "stream",
     "text": [
      "ameem\n",
      "The given word ameem is not a plural \n"
     ]
    }
   ],
   "source": [
    "word=input()\n",
    "if word[-1]==\"s\" or word[-1]==\"S\":\n",
    "    print(\"The given word {} is plural \".format(word))\n",
    "else:\n",
    "    print(\"The given word {} is not a plural \".format(word))"
   ]
  },
  {
   "cell_type": "code",
   "execution_count": 16,
   "id": "f7a80e2e",
   "metadata": {},
   "outputs": [],
   "source": [
    "# 17. A bartender is writing a simple program to determine whether he should serve drinks to someone. He only serves drinks to people 18 and older and when he's not on break (True means break and False means not a break time). Given the person's age, and whether break time is in session, create a python program which prints whether he should serve drinks or not.\n"
   ]
  },
  {
   "cell_type": "code",
   "execution_count": 17,
   "id": "de66ad27",
   "metadata": {},
   "outputs": [
    {
     "name": "stdout",
     "output_type": "stream",
     "text": [
      "Enter yourameem\n",
      "please provide your age : 22\n",
      "provide bar tender is in break or not?\n",
      "type y or ny\n",
      "The bartender serves drink to ameem\n"
     ]
    }
   ],
   "source": [
    "\n",
    "name=input(\"Enter your\")\n",
    "age=int(input(\"please provide your age : \"))\n",
    "print(\"provide bar tender is in break or not?\")\n",
    "b=input(\"type y or n\")\n",
    "if b==\"n\" or b==\"N\":\n",
    "    print(\"Bartender is not taking Break!\")\n",
    "    if age >=18:\n",
    "        print(\"The bartender serves drink to {}\".format(name))\n",
    "    else:\n",
    "        print(\"The bartender will not serves drink to {}\".format(name))\n",
    "if b==\"Y\" or b==\"y\":\n",
    "    print(\"The bartender serves drink to {}\".format(name))\n"
   ]
  },
  {
   "cell_type": "code",
   "execution_count": 18,
   "id": "90cc8cb2",
   "metadata": {},
   "outputs": [],
   "source": [
    "# 18. Manoj Kumar has family and friends. Help him remind them who is who. Given a string with a name, return the relation of that person to Manoj Kumar.\n",
    "    Shiva father ,Letha mother ,Tarun brother\n"
   ]
  },
  {
   "cell_type": "code",
   "execution_count": 1,
   "id": "b32bbf05",
   "metadata": {},
   "outputs": [
    {
     "name": "stdout",
     "output_type": "stream",
     "text": [
      "Please enter your name : shiva\n",
      "shiva is Father to Manoj Kumar.\n"
     ]
    }
   ],
   "source": [
    "person=input(\"Please enter your name : \")\n",
    "data={\"shiva\":\"Father\",\"letha\":\"Mother\",\"vasavi\":\"Sister\",\"tarun\":\"Brother\"}\n",
    "if person in data:\n",
    "    print(\"{} is {} to Manoj Kumar.\".format(person,data[person]))\n",
    "else:\n",
    "    relation=input(\"Please provide your relation with Manoj Kumar : \")\n",
    "    if relation!=\"friend\" or relation!=\"Friend\":\n",
    "        data.update({person:relation})\n",
    "        print(\"{} is {} to Manoj Kumar.\".format(person,data[person]))\n",
    "    else:\n",
    "        print(\"{} is friend to Manoj Kumar.\".format(person))\n"
   ]
  },
  {
   "cell_type": "code",
   "execution_count": 2,
   "id": "6ecbb422",
   "metadata": {},
   "outputs": [],
   "source": [
    "# 19. Write a python program that takes a string, breaks it up and returns it with vowels first, consonants second. For any character that's not a vowel (like special characters or spaces), treat them like consonants\n"
   ]
  },
  {
   "cell_type": "code",
   "execution_count": 3,
   "id": "82766df1",
   "metadata": {},
   "outputs": [
    {
     "name": "stdout",
     "output_type": "stream",
     "text": [
      "abcdefghijklmnopqrstuvwxyz@!*\n",
      "aeioubcdfghjklmnpqrstvwxyz@!*\n"
     ]
    }
   ],
   "source": [
    "x=input()\n",
    "y=\"\"\n",
    "z=\"\"\n",
    "for s in x:\n",
    "    if s in [\"a\",\"e\",\"i\",\"o\",\"u\",\"A\",\"E\",\"I\",\"O\",\"U\"]:\n",
    "        y+=s\n",
    "    else:\n",
    "        z+=s\n",
    "print(y+z)"
   ]
  },
  {
   "cell_type": "code",
   "execution_count": 4,
   "id": "3a5ecfc7",
   "metadata": {},
   "outputs": [],
   "source": [
    "# 20. Create a dynamic calculator which asks for numbers and operator and return the answers"
   ]
  },
  {
   "cell_type": "code",
   "execution_count": 6,
   "id": "eae0bf4c",
   "metadata": {},
   "outputs": [
    {
     "name": "stdout",
     "output_type": "stream",
     "text": [
      "number 1 : 25\n",
      "operator : +\n",
      "number 2 : 25\n",
      "50\n"
     ]
    }
   ],
   "source": [
    "num1=int(input(\"number 1 : \"))\n",
    "x=input(\"operator : \")\n",
    "num2=int(input(\"number 2 : \"))\n",
    "if x==\"+\":\n",
    "    print(num1+num2)\n",
    "elif x==\"-\":\n",
    "    print(num1-num2)\n",
    "elif x==\"*\":\n",
    "    print(num1*num2)\n",
    "elif x==\"/\":\n",
    "    print(num1/num2)\n",
    "elif x==\"**\":\n",
    "    print(num1**num2)\n",
    "else:\n",
    "    print(\"You have given wrong input.\")"
   ]
  },
  {
   "cell_type": "code",
   "execution_count": null,
   "id": "2b3880a0",
   "metadata": {},
   "outputs": [],
   "source": []
  }
 ],
 "metadata": {
  "kernelspec": {
   "display_name": "Python 3 (ipykernel)",
   "language": "python",
   "name": "python3"
  },
  "language_info": {
   "codemirror_mode": {
    "name": "ipython",
    "version": 3
   },
   "file_extension": ".py",
   "mimetype": "text/x-python",
   "name": "python",
   "nbconvert_exporter": "python",
   "pygments_lexer": "ipython3",
   "version": "3.9.13"
  }
 },
 "nbformat": 4,
 "nbformat_minor": 5
}
